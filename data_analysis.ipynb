import pandas as pd
import numpy as np
import seaborn as sns
from pandas import Series, DataFrame

df = pd.read_csv('/IPL 2008_17 (1).csv')

print(df.info())

df.sample()

df

del df['Unnamed: 17']

df

df.describe()

df.head()

df.team1

df.team1.unique(), df.team1.unique().size

df.team2.unique(), df.team2.unique().size

__Top 3 cities where the most matches has been played?__

df.city.unique()[:3]

df.city.values

df.city.value_counts()[:3]

__Top 3 venues where the most IPL matches has been played?__

df.venue.value_counts()[:3]

__Top 3 most toss winners__

df.toss_winner

df.toss_winner.value_counts()[:3]

df.toss_winner.value_counts(), df.toss_decision.value_counts()

df.dl_applied.values

__How many matches were there where the dl was applied__

np.where((df.dl_applied.values) == 'Y')

df[df.dl_applied == 'Y']

__Man of The Match__

df.Man_of_Match.values

df_2009 = df[df.season == 2009]

df_2009

df_2009.head()

df_2009.Man_of_Match.value_counts()[:2]

__Statistical Measures__

import seaborn as sns
import matplotlib.pyplot as plt

Best_players = df.Man_of_Match.value_counts()[:10]

Best_players

sns.countplot(x =  df.Man_of_Match.value_counts(), data = df )

plt.figure(figsize=(10,5))
sns.countplot(x = 'season', data = df)

plt.figure(figsize=(20,10))
data = df.winner.value_counts()
sns.barplot(y = data.index, x = data, orient = 'h')

top_players = df.Man_of_Match.value_counts()[:10]
plt.figure(figsize=(10, 10))
plt.ylim([0, 20])
plt.title('Top players of th Match Winners')
sns.barplot(y = top_players, x = top_players.index, orient= 'v')

values = [[3,4,5,1], [33,6,1,2]]

v = values[0][0]
for row in range(0, len(values)):
  for column in range (0, len(values[row])):
    if v < values[row][column]:
      v = values[row][column]

values

v

def ex(a):
  a = a + '2'
      a = a*2
  return a
ex("hello")


print("xyyzxyzxzxyy".count('yy', 1))

import pandas as pd
df = pd.DataFrame({'click_id':['A','B','C','D','E'],'Count':[100,200,300,400,250]})
df1 = df
df.loc[df.click_id == 'A', 'Count'] +=100
print(df.Count.values,df1.Count.values)

df

a = {1,2,3}
b = {1,2,3,4}
c = a.issuperset(b)
print(c)

import numpy as np
a = np.array([[1,2,3],[0,1,4]])
b = np.zeros((2,3), dtype=np.int16)
c = np.ones((2,3), dtype=np.int16)
d = a+b+c
print(d[1,2])

ary = np.array([1,2,3,5,8])
ary = ary +1
print(ary[1])

a = np.array([1,2,3,5,8])
print(a.ndim)

df1 = df
df.loc[df.Click_Id == 'A', 'Count'] +=100
print(df.Count.values,df1.Count.values)

x = "abcdef"
for i in x:
  print(i, end =" ")

n1 = ['Amir', 'Bala', 'Cha']
n2 = [name.lower() for name in n1]
print(n2[2][0])

s = pd.Series([1,2,3,4,5],index =['a','b','c','d',e'])
print(s['a'])

[ord(ch) for ch in 'abc']

a={1:"A",2:"B",3:"C"}
for i,j in a.items():
  print(i,j,end=" ")

print("abc DEF".capitalize())

y = 6
z = lambda x : x * y
print(z(8))

x = "abcdef"
while i in x:
  print(i, end=" ")

s={2,5,6,6,7}
s

def f1():
  x = 100
  print(x)
x=+1
f1()

"Hello".replace("l", "e")

a = np.array([1,2,3,5,8])
b = np.array([0,3,4,2,1])
c = a+b
c = c*a
print(c[2])

l = [1,2,3,4,5,6,7,8,9]
l2 = [(x**3) for x in l]

l2

